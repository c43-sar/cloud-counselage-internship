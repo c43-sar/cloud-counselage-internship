{
 "cells": [
  {
   "cell_type": "markdown",
   "metadata": {},
   "source": [
    "## Import Required Libraries\n",
    "\n",
    "---\n"
   ]
  },
  {
   "cell_type": "code",
   "execution_count": 1,
   "metadata": {},
   "outputs": [],
   "source": [
    "# Libraries for preprocessing and EDA:\n",
    "import numpy as np\n",
    "import pandas as pd\n",
    "import seaborn as sns\n",
    "import matplotlib.pyplot as plt\n",
    "from sklearn import preprocessing\n",
    "from sklearn.model_selection import train_test_split\n",
    "\n",
    "# Libraries for ML:\n",
    "from sklearn.model_selection import train_test_split\n",
    "from sklearn.linear_model import LogisticRegression\n",
    "from sklearn.tree import DecisionTreeClassifier\n",
    "from sklearn.ensemble import RandomForestClassifier\n",
    "from sklearn.neighbors import KNeighborsClassifier\n",
    "from sklearn.naive_bayes import GaussianNB\n",
    "from sklearn.svm import SVC\n",
    "from sklearn.preprocessing import MinMaxScaler\n",
    "from sklearn.metrics import accuracy_score, classification_report\n",
    "from xgboost import XGBClassifier\n",
    "import xgboost as xgb"
   ]
  },
  {
   "cell_type": "code",
   "execution_count": 2,
   "metadata": {},
   "outputs": [],
   "source": [
    "def uniqounter(y_list):\n",
    "    preds = {}\n",
    "    for i in pd.Series(y_list).unique():\n",
    "        preds[i] = 0\n",
    "    for i in y_list:\n",
    "        preds[i] = preds[i] + 1\n",
    "    return preds"
   ]
  },
  {
   "cell_type": "markdown",
   "metadata": {},
   "source": [
    "## Loading and Preprocessing Datasets\n",
    "\n",
    "---\n"
   ]
  },
  {
   "cell_type": "code",
   "execution_count": 3,
   "metadata": {},
   "outputs": [],
   "source": [
    "data_train = pd.read_excel(\"01 Train Data.xlsx\")\n",
    "data_test = pd.read_excel(\"02 Test Data.xlsx\")"
   ]
  },
  {
   "cell_type": "code",
   "execution_count": 4,
   "metadata": {},
   "outputs": [
    {
     "data": {
      "text/html": [
       "<div>\n",
       "<style scoped>\n",
       "    .dataframe tbody tr th:only-of-type {\n",
       "        vertical-align: middle;\n",
       "    }\n",
       "\n",
       "    .dataframe tbody tr th {\n",
       "        vertical-align: top;\n",
       "    }\n",
       "\n",
       "    .dataframe thead th {\n",
       "        text-align: right;\n",
       "    }\n",
       "</style>\n",
       "<table border=\"1\" class=\"dataframe\">\n",
       "  <thead>\n",
       "    <tr style=\"text-align: right;\">\n",
       "      <th></th>\n",
       "      <th>First Name</th>\n",
       "      <th>Email ID</th>\n",
       "      <th>Quantity</th>\n",
       "      <th>Price Tier</th>\n",
       "      <th>Ticket Type</th>\n",
       "      <th>Attendee #</th>\n",
       "      <th>Group</th>\n",
       "      <th>Order Type</th>\n",
       "      <th>Currency</th>\n",
       "      <th>Total Paid</th>\n",
       "      <th>...</th>\n",
       "      <th>Attendee Status</th>\n",
       "      <th>College Name</th>\n",
       "      <th>How did you come to know about this event?</th>\n",
       "      <th>Specify in \"Others\" (how did you come to know about this event)</th>\n",
       "      <th>Designation</th>\n",
       "      <th>Year of Graduation</th>\n",
       "      <th>CGPA</th>\n",
       "      <th>Speaking Skills</th>\n",
       "      <th>ML Knowledge</th>\n",
       "      <th>Placement Status</th>\n",
       "    </tr>\n",
       "  </thead>\n",
       "  <tbody>\n",
       "    <tr>\n",
       "      <th>0</th>\n",
       "      <td>ANIKET</td>\n",
       "      <td>aniket@xyz.com</td>\n",
       "      <td>1</td>\n",
       "      <td>NaN</td>\n",
       "      <td>Art of Resume Building</td>\n",
       "      <td>2.213855e+09</td>\n",
       "      <td>NaN</td>\n",
       "      <td>Free Order</td>\n",
       "      <td>USD</td>\n",
       "      <td>0</td>\n",
       "      <td>...</td>\n",
       "      <td>Attending</td>\n",
       "      <td>D Y PATIL INSTITUTE OF MCA AND MANAGEMENT AKUR...</td>\n",
       "      <td>Email</td>\n",
       "      <td>NaN</td>\n",
       "      <td>Students</td>\n",
       "      <td>NaN</td>\n",
       "      <td>6.7</td>\n",
       "      <td>2</td>\n",
       "      <td>5</td>\n",
       "      <td>Placed</td>\n",
       "    </tr>\n",
       "    <tr>\n",
       "      <th>1</th>\n",
       "      <td>Dhanshree</td>\n",
       "      <td>dhanshree@xyz.com</td>\n",
       "      <td>1</td>\n",
       "      <td>NaN</td>\n",
       "      <td>Art of Resume Building</td>\n",
       "      <td>2.213859e+09</td>\n",
       "      <td>NaN</td>\n",
       "      <td>Free Order</td>\n",
       "      <td>USD</td>\n",
       "      <td>0</td>\n",
       "      <td>...</td>\n",
       "      <td>Attending</td>\n",
       "      <td>AP SHAH INSTITUTE OF TECHNOLOGY</td>\n",
       "      <td>Others</td>\n",
       "      <td>College</td>\n",
       "      <td>Students</td>\n",
       "      <td>NaN</td>\n",
       "      <td>8.2</td>\n",
       "      <td>3</td>\n",
       "      <td>2</td>\n",
       "      <td>Not placed</td>\n",
       "    </tr>\n",
       "    <tr>\n",
       "      <th>2</th>\n",
       "      <td>Dhiraj</td>\n",
       "      <td>dhiraj@xyz.com</td>\n",
       "      <td>1</td>\n",
       "      <td>NaN</td>\n",
       "      <td>Art of Resume Building</td>\n",
       "      <td>2.213862e+09</td>\n",
       "      <td>NaN</td>\n",
       "      <td>Free Order</td>\n",
       "      <td>USD</td>\n",
       "      <td>0</td>\n",
       "      <td>...</td>\n",
       "      <td>Attending</td>\n",
       "      <td>Don Bosco College of Engineering Fatorda Goa</td>\n",
       "      <td>Email</td>\n",
       "      <td>NaN</td>\n",
       "      <td>Students</td>\n",
       "      <td>NaN</td>\n",
       "      <td>6.5</td>\n",
       "      <td>4</td>\n",
       "      <td>3</td>\n",
       "      <td>Not placed</td>\n",
       "    </tr>\n",
       "  </tbody>\n",
       "</table>\n",
       "<p>3 rows × 23 columns</p>\n",
       "</div>"
      ],
      "text/plain": [
       "  First Name           Email ID  Quantity  Price Tier             Ticket Type  \\\n",
       "0     ANIKET     aniket@xyz.com         1         NaN  Art of Resume Building   \n",
       "1  Dhanshree  dhanshree@xyz.com         1         NaN  Art of Resume Building   \n",
       "2     Dhiraj     dhiraj@xyz.com         1         NaN  Art of Resume Building   \n",
       "\n",
       "     Attendee #  Group  Order Type Currency  Total Paid  ...  Attendee Status  \\\n",
       "0  2.213855e+09    NaN  Free Order      USD           0  ...        Attending   \n",
       "1  2.213859e+09    NaN  Free Order      USD           0  ...        Attending   \n",
       "2  2.213862e+09    NaN  Free Order      USD           0  ...        Attending   \n",
       "\n",
       "                                        College Name  \\\n",
       "0  D Y PATIL INSTITUTE OF MCA AND MANAGEMENT AKUR...   \n",
       "1                   AP SHAH INSTITUTE OF TECHNOLOGY    \n",
       "2       Don Bosco College of Engineering Fatorda Goa   \n",
       "\n",
       "   How did you come to know about this event?  \\\n",
       "0                                       Email   \n",
       "1                                      Others   \n",
       "2                                       Email   \n",
       "\n",
       "  Specify in \"Others\" (how did you come to know about this event) Designation  \\\n",
       "0                                                NaN                 Students   \n",
       "1                                            College                 Students   \n",
       "2                                                NaN                 Students   \n",
       "\n",
       "  Year of Graduation CGPA Speaking Skills ML Knowledge  Placement Status  \n",
       "0                NaN  6.7               2            5            Placed  \n",
       "1                NaN  8.2               3            2        Not placed  \n",
       "2                NaN  6.5               4            3        Not placed  \n",
       "\n",
       "[3 rows x 23 columns]"
      ]
     },
     "execution_count": 4,
     "metadata": {},
     "output_type": "execute_result"
    }
   ],
   "source": [
    "data_train.head(3)"
   ]
  },
  {
   "cell_type": "code",
   "execution_count": 5,
   "metadata": {},
   "outputs": [
    {
     "data": {
      "text/plain": [
       "(4894, 23)"
      ]
     },
     "execution_count": 5,
     "metadata": {},
     "output_type": "execute_result"
    }
   ],
   "source": [
    "data_train.shape"
   ]
  },
  {
   "cell_type": "code",
   "execution_count": 6,
   "metadata": {},
   "outputs": [
    {
     "data": {
      "text/plain": [
       "Index(['First Name', 'Email ID', 'Quantity', 'Price Tier', 'Ticket Type',\n",
       "       'Attendee #', 'Group', 'Order Type', 'Currency', 'Total Paid',\n",
       "       'Fees Paid', 'Eventbrite Fees', 'Eventbrite Payment Processing',\n",
       "       'Attendee Status', 'College Name',\n",
       "       'How did you come to know about this event?',\n",
       "       'Specify in \"Others\" (how did you come to know about this event)',\n",
       "       'Designation', 'Year of Graduation', 'CGPA', 'Speaking Skills',\n",
       "       'ML Knowledge', 'Placement Status'],\n",
       "      dtype='object')"
      ]
     },
     "execution_count": 6,
     "metadata": {},
     "output_type": "execute_result"
    }
   ],
   "source": [
    "data_train.columns"
   ]
  },
  {
   "cell_type": "code",
   "execution_count": 7,
   "metadata": {},
   "outputs": [],
   "source": [
    "data_train = data_train.drop_duplicates(\n",
    "    subset=[\"First Name\", \"Email ID\"],\n",
    "    keep=\"last\",\n",
    ").reset_index(drop=True)"
   ]
  },
  {
   "cell_type": "code",
   "execution_count": 8,
   "metadata": {},
   "outputs": [
    {
     "data": {
      "text/plain": [
       "(2495, 23)"
      ]
     },
     "execution_count": 8,
     "metadata": {},
     "output_type": "execute_result"
    }
   ],
   "source": [
    "data_train.shape"
   ]
  },
  {
   "cell_type": "code",
   "execution_count": 9,
   "metadata": {},
   "outputs": [
    {
     "name": "stdout",
     "output_type": "stream",
     "text": [
      "First Name\n",
      "['Soumitra' 'Damini' 'Gauravsing' ... 'Sanjay' 'Sushmita' 'Vipul']\n",
      "Email ID\n",
      "['soumitra@xyz.com' 'damini@xyz.com' 'gauravsing@xyz.com' ...\n",
      " 'saifali@xyz.com' 'lankesh@xyz.com' 'sanjay@xyz.com']\n",
      "Quantity\n",
      "[1]\n",
      "Price Tier\n",
      "[nan]\n",
      "Ticket Type\n",
      "['Art of Resume Building' 'Data Visualization using Power BI'\n",
      " 'Artificial Intelligence' 'Hello ML and DL' 'Product Marketing'\n",
      " 'IAC - Q&A' 'Internship Program(IP) Success Conclave'\n",
      " 'IS DATA SCIENCE FOR YOU?' 'KYC - Know Your CCPC'\n",
      " 'Product Design & Full Stack' 'RPA: A Boon or A Bane'\n",
      " 'Skill and Employability Enhancement'\n",
      " 'Talk on Skill and Employability Enhancement' 'The Agile Ways of Working'\n",
      " 'The SDLC & their transformations'\n",
      " 'Transformation with DevOps: The Easy Way']\n",
      "Attendee #\n",
      "[2.21588176e+09 2.21679193e+09 2.21679980e+09 ... 1.94932828e+09\n",
      " 1.94933011e+09 1.94933249e+09]\n",
      "Group\n",
      "[nan]\n",
      "Order Type\n",
      "['Free Order' 'Other']\n",
      "Currency\n",
      "['USD' nan]\n",
      "Total Paid\n",
      "[0]\n",
      "Fees Paid\n",
      "[ 0. nan]\n",
      "Eventbrite Fees\n",
      "[0]\n",
      "Eventbrite Payment Processing\n",
      "[0]\n",
      "Attendee Status\n",
      "['Attending' 'NAN']\n",
      "College Name\n",
      "['Symbiosis Institute of Technology, Pune'\n",
      " 'Priyadarshini college of engineering, Nagpur '\n",
      " 'Silicon Institute of Technology'\n",
      " 'Pillai College of Engineering New Panvel'\n",
      " 'GOVERNMENT POLYTECHNIC GANDHINAGAR'\n",
      " 'Vishwakarma Institute of Technology, Pune'\n",
      " \"KLE Society's College of BCA, RLS Institute, Belagavi\"\n",
      " 'New horizon institute of Technology and Management '\n",
      " 'A. C. Patil College of Engineering' 'Wilson college '\n",
      " 'LD College of engineering, Ahmedabad, Gujarat '\n",
      " 'St.Francis Institute of Technology'\n",
      " 'D Y PATIL INSTITUTE OF MCA AND MANAGEMENT AKURDI PUNE'\n",
      " 'Vidyalankar Institute of Technology, Mumbai'\n",
      " 'LOKMANYA TILAK COLLEGE OF ENGINEERING KOPARKHAIRANE NAVI MUMBAI'\n",
      " 'B. K. Birla College of Arts, Science & Commerce (Autonomous), Kalyan'\n",
      " 'MIT Academy Of Engineering ,Alandi'\n",
      " \"DKTE Society's Textile And Engineering Institute Ichalkaranji\"\n",
      " 'Don Bosco College of Engineering Fatorda Goa'\n",
      " 'Late G. N. Sapkal College Of Engineering'\n",
      " 'THAKUR INSTITUTE OF MANAGEMENT STUDIES, CAREER DEVELOPMENT & RESEARCH - [TIMSCDR]'\n",
      " 'ADHIYAMAAN COLLEGE OF ENGINEERING'\n",
      " 'G H Raisoni institut of engineering and technology pune' nan\n",
      " 'CHHATTISGARH SWAMI VIVEKANANDA TECHNICAL UNIVERSITY TEACHING DEPARTMENT BHILAI'\n",
      " \"St Xavier's College \"\n",
      " 'S.I.E.S. Graduate School Of Technology, Nerul, Navi Mumbai'\n",
      " 'chhattisgarh swami vivekananda technical university teaching department bhilai'\n",
      " 'adhiyamaan college of engineering'\n",
      " 'pillai college of engineering new panvel'\n",
      " 'vidyalankar institute of technology, mumbai'\n",
      " 'b. k. birla college of arts, science & commerce (autonomous), kalyan'\n",
      " \"kle society's college of bca, rls institute, belagavi\"\n",
      " 'vishwakarma institute of technology, pune'\n",
      " 'priyadarshini college of engineering, nagpur '\n",
      " 'late g. n. sapkal college of engineering'\n",
      " 'symbiosis institute of technology, pune'\n",
      " 'st.francis institute of technology'\n",
      " 'new horizon institute of technology and management '\n",
      " 'mit academy of engineering ,alandi' 'a. c. patil college of engineering'\n",
      " \"dkte society's textile and engineering institute ichalkaranji\"\n",
      " 'd y patil institute of mca and management akurdi pune'\n",
      " 'don bosco college of engineering fatorda goa' 'wilson college '\n",
      " \"st xavier's college \"\n",
      " 'g h raisoni institut of engineering and technology pune'\n",
      " 'government polytechnic gandhinagar'\n",
      " 'ld college of engineering, ahmedabad, gujarat '\n",
      " 'silicon institute of technology'\n",
      " 'thakur institute of management studies, career development & research - [timscdr]'\n",
      " 's.i.e.s. graduate school of technology, nerul, navi mumbai'\n",
      " 'lokmanya tilak college of engineering koparkhairane navi mumbai'\n",
      " 'ap shah institute of technology ']\n",
      "How did you come to know about this event?\n",
      "['Whatsapp' 'Whatsapp | Cloud Counselage Website' 'Whatsapp | Others'\n",
      " 'Youtube | Facebook | Instagram | LinkedIn | Whatsapp | Email | Cloud Counselage Website'\n",
      " 'Facebook' 'Email' 'Others' 'Youtube' 'Whatsapp | Email'\n",
      " 'Youtube | LinkedIn | Cloud Counselage Website'\n",
      " 'Email | Cloud Counselage Website'\n",
      " 'Facebook | Instagram | Whatsapp | Email'\n",
      " 'Youtube | Instagram | LinkedIn | Whatsapp | Email' 'Youtube | Whatsapp'\n",
      " 'Youtube | Whatsapp | Email' 'Cloud Counselage Website' 'Instagram'\n",
      " 'Youtube | Whatsapp | Email | Cloud Counselage Website'\n",
      " 'Youtube | Facebook | Instagram | LinkedIn | Whatsapp | Email | Cloud Counselage Website | Others'\n",
      " 'Facebook | Instagram' 'LinkedIn' 'SPOC/ College Professor'\n",
      " 'Whatsapp | SPOC/ College Professor' 'Email | SPOC/ College Professor'\n",
      " 'Youtube | Facebook' 'Friend/ Classmate | SPOC/ College Professor'\n",
      " 'Friend/ Classmate' 'LinkedIn | Cloud Counselage Website'\n",
      " 'Whatsapp | Email | Cloud Counselage Website | SPOC/ College Professor'\n",
      " 'LinkedIn | Email' 'Telegram'\n",
      " 'Youtube | Facebook | Instagram | LinkedIn | Whatsapp | Email | Telegram | Twitter | Friend/ Classmate'\n",
      " 'Youtube | Facebook | Instagram | LinkedIn | Email | Cloud Counselage Website'\n",
      " 'Instagram | Whatsapp | Email'\n",
      " 'Whatsapp | Cloud Counselage Website | Others'\n",
      " 'Youtube | Instagram | Whatsapp' 'Youtube | Others'\n",
      " 'Cloud Counselage Website | Others'\n",
      " 'Whatsapp | Friend/ Classmate | SPOC/ College Professor'\n",
      " 'Whatsapp | Friend/ Classmate' 'Youtube | Email'\n",
      " 'Cloud Counselage Website | Friend/ Classmate | SPOC/ College Professor'\n",
      " 'Email | Cloud Counselage Website | Telegram' nan\n",
      " 'Cloud Counselage Website | SPOC/ College Professor'\n",
      " 'Others | SPOC/ College Professor' 'Instagram | Friend/ Classmate'\n",
      " 'Youtube | Friend/ Classmate'\n",
      " 'Youtube | Facebook | Instagram | Whatsapp | Email | Friend/ Classmate'\n",
      " 'Youtube | Facebook | Instagram | Whatsapp | Email | Telegram | Twitter | Friend/ Classmate'\n",
      " 'LinkedIn | SPOC/ College Professor'\n",
      " 'Youtube | Instagram | Whatsapp | Telegram | Twitter'\n",
      " 'Youtube | Whatsapp | Friend/ Classmate'\n",
      " 'Youtube | Facebook | Whatsapp | Email' 'Youtube | Facebook | Whatsapp'\n",
      " 'Youtube | Instagram | Whatsapp | Email' 'LinkedIn | Email | Telegram'\n",
      " 'Youtube | Email | Others' 'LinkedIn | Telegram'\n",
      " 'Whatsapp | Email | Telegram' 'Youtube | LinkedIn | Whatsapp | Email'\n",
      " 'Whatsapp | Cloud Counselage Website | SPOC/ College Professor'\n",
      " 'LinkedIn | Email | Cloud Counselage Website | Telegram'\n",
      " 'Instagram | LinkedIn' 'Instagram | Email'\n",
      " 'Instagram | Whatsapp | Email | Others'\n",
      " 'Whatsapp | Email | Cloud Counselage Website'\n",
      " 'Facebook | Cloud Counselage Website'\n",
      " 'LinkedIn | Email | Cloud Counselage Website'\n",
      " 'Youtube | Whatsapp | Cloud Counselage Website'\n",
      " 'LinkedIn | Whatsapp | Email'\n",
      " 'Youtube | Facebook | Instagram | Whatsapp | Email' 'Facebook | LinkedIn'\n",
      " 'Instagram | Whatsapp'\n",
      " 'Youtube | Facebook | Instagram | LinkedIn | Whatsapp | Email'\n",
      " 'Facebook | Whatsapp']\n",
      "Specify in \"Others\" (how did you come to know about this event)\n",
      "[nan 'College' 'Institute' 'Friends' 'Attend' 'Telegram' 'Team entity'\n",
      " 'Twitter ' 'Yuva Sena/Shiv Sena' 'Interested']\n",
      "Designation\n",
      "['Students' 'Professor' 'Asst. Professor' 'HoD' 'Principal'\n",
      " 'Web Development' 'Mechanical Engineer' 'B.Tech' 'Director T& P'\n",
      " 'Engineering ' 'Intern' 'CSE' 'BE IT' 'Artificial intelligence'\n",
      " 'Data Science and Analyst' 'Computer Engineer' 'MCA' 'Software developer'\n",
      " 'Software Engineer' 'CS' 'Electrical Engineering' 'Aerospace engineer '\n",
      " 'SPC' 'PGDM Marketing student' 'BE CS' 'IT Engineering' 'Cyber Security'\n",
      " 'Django' 'IT' 'Computer applications' 'Research Scholar'\n",
      " 'Civil Engineering' 'Sr. Manager']\n",
      "Year of Graduation\n",
      "[nan 'Second year' '2021' '2023' '2019' 'Third year' '2022' 'Last Year'\n",
      " '2020' '2016' '1999' 'Fourth Year' 'Final Year' 'B.Tech' 'Pursuing'\n",
      " '2024' 'AISSMS' '2017' 'Bachelor of Engineering ' '2018' '2000' '2001']\n",
      "CGPA\n",
      "[9.6 9.9 7.6 8.9 7.7 7.9 9.2 6.9 7.5 6.7 9.  8.5 6.6 9.7 8.3 8.6 9.1 8.\n",
      " 9.5 7.3 6.4 8.4 6.5 9.3 7.1 8.2 6.8 8.7 8.1 6.2 6.3 7.4 7.2 7.8 9.4 9.8\n",
      " 8.8]\n",
      "Speaking Skills\n",
      "[3 2 5 4 1]\n",
      "ML Knowledge\n",
      "[2 5 4 3 1]\n",
      "Placement Status\n",
      "['Not placed' 'Placed' nan]\n"
     ]
    }
   ],
   "source": [
    "# Get an idea of possible data stored in each colums\n",
    "for i in data_train.columns:\n",
    "    print(i)\n",
    "    print(data_train[i].unique())"
   ]
  },
  {
   "cell_type": "code",
   "execution_count": 10,
   "metadata": {},
   "outputs": [],
   "source": [
    "X_trainset = data_train.drop(\n",
    "    [\n",
    "        \"First Name\",  # ID/unrequired for ML Model\n",
    "        \"Email ID\",  # ID/unrequired for ML Model\n",
    "        \"Quantity\",  # Same for all/irrelevant for ML Model\n",
    "        \"Price Tier\",  # Same for all/irrelevant for ML Model\n",
    "        \"Ticket Type\",  # Same for all/irrelevant for ML Model\n",
    "        \"Attendee #\",  # ID/unrequired for ML Model\n",
    "        \"Group\",  # Same for all/irrelevant for ML Model\n",
    "        \"Order Type\",  # Same for all/irrelevant for ML Model\n",
    "        \"Currency\",  # Same for all/irrelevant for ML Model\n",
    "        \"Total Paid\",  # Same for all/irrelevant for ML Model\n",
    "        \"Fees Paid\",  # Same for all/irrelevant for ML Model\n",
    "        \"Eventbrite Fees\",  # Same for all/irrelevant for ML Model\n",
    "        \"Eventbrite Payment Processing\",  # Same for all/irrelevant for ML Model\n",
    "        \"College Name\",  # Contains noise\n",
    "        \"Year of Graduation\",  # Contains noise/irrelevant values\n",
    "        \"How did you come to know about this event?\",  # Irrelevant for Given Problem Statement\n",
    "        'Specify in \"Others\" (how did you come to know about this event)',  # Same for all/irrelevant for ML Model\n",
    "        \"Designation\",  # Same for all/irrelevant for ML Model\n",
    "    ],\n",
    "    axis=1,\n",
    ")"
   ]
  },
  {
   "cell_type": "code",
   "execution_count": 11,
   "metadata": {},
   "outputs": [
    {
     "data": {
      "text/html": [
       "<div>\n",
       "<style scoped>\n",
       "    .dataframe tbody tr th:only-of-type {\n",
       "        vertical-align: middle;\n",
       "    }\n",
       "\n",
       "    .dataframe tbody tr th {\n",
       "        vertical-align: top;\n",
       "    }\n",
       "\n",
       "    .dataframe thead th {\n",
       "        text-align: right;\n",
       "    }\n",
       "</style>\n",
       "<table border=\"1\" class=\"dataframe\">\n",
       "  <thead>\n",
       "    <tr style=\"text-align: right;\">\n",
       "      <th></th>\n",
       "      <th>Attendee Status</th>\n",
       "      <th>CGPA</th>\n",
       "      <th>Speaking Skills</th>\n",
       "      <th>ML Knowledge</th>\n",
       "      <th>Placement Status</th>\n",
       "    </tr>\n",
       "  </thead>\n",
       "  <tbody>\n",
       "    <tr>\n",
       "      <th>0</th>\n",
       "      <td>Attending</td>\n",
       "      <td>9.6</td>\n",
       "      <td>3</td>\n",
       "      <td>2</td>\n",
       "      <td>Not placed</td>\n",
       "    </tr>\n",
       "    <tr>\n",
       "      <th>1</th>\n",
       "      <td>Attending</td>\n",
       "      <td>9.9</td>\n",
       "      <td>3</td>\n",
       "      <td>2</td>\n",
       "      <td>Not placed</td>\n",
       "    </tr>\n",
       "    <tr>\n",
       "      <th>2</th>\n",
       "      <td>Attending</td>\n",
       "      <td>7.6</td>\n",
       "      <td>2</td>\n",
       "      <td>5</td>\n",
       "      <td>Not placed</td>\n",
       "    </tr>\n",
       "    <tr>\n",
       "      <th>3</th>\n",
       "      <td>Attending</td>\n",
       "      <td>8.9</td>\n",
       "      <td>3</td>\n",
       "      <td>4</td>\n",
       "      <td>Placed</td>\n",
       "    </tr>\n",
       "    <tr>\n",
       "      <th>4</th>\n",
       "      <td>Attending</td>\n",
       "      <td>7.7</td>\n",
       "      <td>5</td>\n",
       "      <td>4</td>\n",
       "      <td>Placed</td>\n",
       "    </tr>\n",
       "    <tr>\n",
       "      <th>...</th>\n",
       "      <td>...</td>\n",
       "      <td>...</td>\n",
       "      <td>...</td>\n",
       "      <td>...</td>\n",
       "      <td>...</td>\n",
       "    </tr>\n",
       "    <tr>\n",
       "      <th>2490</th>\n",
       "      <td>Attending</td>\n",
       "      <td>9.0</td>\n",
       "      <td>3</td>\n",
       "      <td>2</td>\n",
       "      <td>NaN</td>\n",
       "    </tr>\n",
       "    <tr>\n",
       "      <th>2491</th>\n",
       "      <td>Attending</td>\n",
       "      <td>7.2</td>\n",
       "      <td>4</td>\n",
       "      <td>3</td>\n",
       "      <td>NaN</td>\n",
       "    </tr>\n",
       "    <tr>\n",
       "      <th>2492</th>\n",
       "      <td>Attending</td>\n",
       "      <td>8.5</td>\n",
       "      <td>2</td>\n",
       "      <td>3</td>\n",
       "      <td>NaN</td>\n",
       "    </tr>\n",
       "    <tr>\n",
       "      <th>2493</th>\n",
       "      <td>Attending</td>\n",
       "      <td>6.5</td>\n",
       "      <td>5</td>\n",
       "      <td>5</td>\n",
       "      <td>NaN</td>\n",
       "    </tr>\n",
       "    <tr>\n",
       "      <th>2494</th>\n",
       "      <td>Attending</td>\n",
       "      <td>6.6</td>\n",
       "      <td>4</td>\n",
       "      <td>5</td>\n",
       "      <td>NaN</td>\n",
       "    </tr>\n",
       "  </tbody>\n",
       "</table>\n",
       "<p>2495 rows × 5 columns</p>\n",
       "</div>"
      ],
      "text/plain": [
       "     Attendee Status  CGPA  Speaking Skills  ML Knowledge Placement Status\n",
       "0          Attending   9.6                3             2       Not placed\n",
       "1          Attending   9.9                3             2       Not placed\n",
       "2          Attending   7.6                2             5       Not placed\n",
       "3          Attending   8.9                3             4           Placed\n",
       "4          Attending   7.7                5             4           Placed\n",
       "...              ...   ...              ...           ...              ...\n",
       "2490       Attending   9.0                3             2              NaN\n",
       "2491       Attending   7.2                4             3              NaN\n",
       "2492       Attending   8.5                2             3              NaN\n",
       "2493       Attending   6.5                5             5              NaN\n",
       "2494       Attending   6.6                4             5              NaN\n",
       "\n",
       "[2495 rows x 5 columns]"
      ]
     },
     "execution_count": 11,
     "metadata": {},
     "output_type": "execute_result"
    }
   ],
   "source": [
    "X_trainset"
   ]
  },
  {
   "cell_type": "code",
   "execution_count": 12,
   "metadata": {},
   "outputs": [
    {
     "name": "stdout",
     "output_type": "stream",
     "text": [
      "Attendee Status\n",
      "['Attending' 'NAN']\n",
      "CGPA\n",
      "[9.6 9.9 7.6 8.9 7.7 7.9 9.2 6.9 7.5 6.7 9.  8.5 6.6 9.7 8.3 8.6 9.1 8.\n",
      " 9.5 7.3 6.4 8.4 6.5 9.3 7.1 8.2 6.8 8.7 8.1 6.2 6.3 7.4 7.2 7.8 9.4 9.8\n",
      " 8.8]\n",
      "Speaking Skills\n",
      "[3 2 5 4 1]\n",
      "ML Knowledge\n",
      "[2 5 4 3 1]\n",
      "Placement Status\n",
      "['Not placed' 'Placed' nan]\n"
     ]
    }
   ],
   "source": [
    "for i in X_trainset.columns:\n",
    "    print(i)\n",
    "    print(X_trainset[i].unique())"
   ]
  },
  {
   "cell_type": "code",
   "execution_count": 13,
   "metadata": {},
   "outputs": [],
   "source": [
    "# Remove unrequired columns\n",
    "X_trainset[\"Attendee Status\"].replace({\"Attending\": 1, \"NAN\": 0}, inplace=True)\n",
    "X_trainset[\"Placement Status\"].replace({\"Not placed\": 0, \"Placed\": 1}, inplace=True)"
   ]
  },
  {
   "cell_type": "code",
   "execution_count": 14,
   "metadata": {},
   "outputs": [],
   "source": [
    "# Remove NAN Values for ML Models\n",
    "X_trainset.dropna(subset=[\"Placement Status\"], inplace=True)"
   ]
  },
  {
   "cell_type": "code",
   "execution_count": 15,
   "metadata": {},
   "outputs": [
    {
     "name": "stdout",
     "output_type": "stream",
     "text": [
      "Attendee Status\n",
      "[1 0]\n",
      "CGPA\n",
      "[9.6 9.9 7.6 8.9 7.7 7.9 9.2 6.9 7.5 6.7 9.  8.5 6.6 9.7 8.3 8.6 9.1 8.\n",
      " 9.5 7.3 6.4 8.4 6.5 9.3 7.1 8.2 6.8 8.7 8.1 6.2 6.3 7.4 7.2 7.8 9.4 9.8\n",
      " 8.8]\n",
      "Speaking Skills\n",
      "[3 2 5 4]\n",
      "ML Knowledge\n",
      "[2 5 4 3]\n",
      "Placement Status\n",
      "[0. 1.]\n"
     ]
    }
   ],
   "source": [
    "for i in X_trainset.columns:\n",
    "    print(i)\n",
    "    print(X_trainset[i].unique())"
   ]
  },
  {
   "cell_type": "code",
   "execution_count": 16,
   "metadata": {},
   "outputs": [
    {
     "data": {
      "text/plain": [
       "Attendee Status       int64\n",
       "CGPA                float64\n",
       "Speaking Skills       int64\n",
       "ML Knowledge          int64\n",
       "Placement Status    float64\n",
       "dtype: object"
      ]
     },
     "execution_count": 16,
     "metadata": {},
     "output_type": "execute_result"
    }
   ],
   "source": [
    "X_trainset.dtypes"
   ]
  },
  {
   "cell_type": "code",
   "execution_count": 17,
   "metadata": {},
   "outputs": [],
   "source": [
    "X_trainset = X_trainset.astype({\"Placement Status\": np.int64})"
   ]
  },
  {
   "cell_type": "code",
   "execution_count": 18,
   "metadata": {},
   "outputs": [
    {
     "data": {
      "text/plain": [
       "Attendee Status       int64\n",
       "CGPA                float64\n",
       "Speaking Skills       int64\n",
       "ML Knowledge          int64\n",
       "Placement Status      int64\n",
       "dtype: object"
      ]
     },
     "execution_count": 18,
     "metadata": {},
     "output_type": "execute_result"
    }
   ],
   "source": [
    "X_trainset.dtypes"
   ]
  },
  {
   "cell_type": "code",
   "execution_count": 19,
   "metadata": {},
   "outputs": [
    {
     "data": {
      "text/html": [
       "<div>\n",
       "<style scoped>\n",
       "    .dataframe tbody tr th:only-of-type {\n",
       "        vertical-align: middle;\n",
       "    }\n",
       "\n",
       "    .dataframe tbody tr th {\n",
       "        vertical-align: top;\n",
       "    }\n",
       "\n",
       "    .dataframe thead th {\n",
       "        text-align: right;\n",
       "    }\n",
       "</style>\n",
       "<table border=\"1\" class=\"dataframe\">\n",
       "  <thead>\n",
       "    <tr style=\"text-align: right;\">\n",
       "      <th></th>\n",
       "      <th>Attendee Status</th>\n",
       "      <th>CGPA</th>\n",
       "      <th>Speaking Skills</th>\n",
       "      <th>ML Knowledge</th>\n",
       "      <th>Placement Status</th>\n",
       "    </tr>\n",
       "  </thead>\n",
       "  <tbody>\n",
       "    <tr>\n",
       "      <th>0</th>\n",
       "      <td>1</td>\n",
       "      <td>9.6</td>\n",
       "      <td>3</td>\n",
       "      <td>2</td>\n",
       "      <td>0</td>\n",
       "    </tr>\n",
       "    <tr>\n",
       "      <th>1</th>\n",
       "      <td>1</td>\n",
       "      <td>9.9</td>\n",
       "      <td>3</td>\n",
       "      <td>2</td>\n",
       "      <td>0</td>\n",
       "    </tr>\n",
       "    <tr>\n",
       "      <th>2</th>\n",
       "      <td>1</td>\n",
       "      <td>7.6</td>\n",
       "      <td>2</td>\n",
       "      <td>5</td>\n",
       "      <td>0</td>\n",
       "    </tr>\n",
       "    <tr>\n",
       "      <th>3</th>\n",
       "      <td>1</td>\n",
       "      <td>8.9</td>\n",
       "      <td>3</td>\n",
       "      <td>4</td>\n",
       "      <td>1</td>\n",
       "    </tr>\n",
       "    <tr>\n",
       "      <th>4</th>\n",
       "      <td>1</td>\n",
       "      <td>7.7</td>\n",
       "      <td>5</td>\n",
       "      <td>4</td>\n",
       "      <td>1</td>\n",
       "    </tr>\n",
       "    <tr>\n",
       "      <th>...</th>\n",
       "      <td>...</td>\n",
       "      <td>...</td>\n",
       "      <td>...</td>\n",
       "      <td>...</td>\n",
       "      <td>...</td>\n",
       "    </tr>\n",
       "    <tr>\n",
       "      <th>414</th>\n",
       "      <td>1</td>\n",
       "      <td>9.1</td>\n",
       "      <td>3</td>\n",
       "      <td>3</td>\n",
       "      <td>0</td>\n",
       "    </tr>\n",
       "    <tr>\n",
       "      <th>415</th>\n",
       "      <td>1</td>\n",
       "      <td>6.7</td>\n",
       "      <td>4</td>\n",
       "      <td>4</td>\n",
       "      <td>1</td>\n",
       "    </tr>\n",
       "    <tr>\n",
       "      <th>416</th>\n",
       "      <td>1</td>\n",
       "      <td>7.9</td>\n",
       "      <td>4</td>\n",
       "      <td>4</td>\n",
       "      <td>1</td>\n",
       "    </tr>\n",
       "    <tr>\n",
       "      <th>417</th>\n",
       "      <td>1</td>\n",
       "      <td>7.3</td>\n",
       "      <td>2</td>\n",
       "      <td>2</td>\n",
       "      <td>0</td>\n",
       "    </tr>\n",
       "    <tr>\n",
       "      <th>418</th>\n",
       "      <td>1</td>\n",
       "      <td>7.3</td>\n",
       "      <td>2</td>\n",
       "      <td>2</td>\n",
       "      <td>0</td>\n",
       "    </tr>\n",
       "  </tbody>\n",
       "</table>\n",
       "<p>419 rows × 5 columns</p>\n",
       "</div>"
      ],
      "text/plain": [
       "     Attendee Status  CGPA  Speaking Skills  ML Knowledge  Placement Status\n",
       "0                  1   9.6                3             2                 0\n",
       "1                  1   9.9                3             2                 0\n",
       "2                  1   7.6                2             5                 0\n",
       "3                  1   8.9                3             4                 1\n",
       "4                  1   7.7                5             4                 1\n",
       "..               ...   ...              ...           ...               ...\n",
       "414                1   9.1                3             3                 0\n",
       "415                1   6.7                4             4                 1\n",
       "416                1   7.9                4             4                 1\n",
       "417                1   7.3                2             2                 0\n",
       "418                1   7.3                2             2                 0\n",
       "\n",
       "[419 rows x 5 columns]"
      ]
     },
     "execution_count": 19,
     "metadata": {},
     "output_type": "execute_result"
    }
   ],
   "source": [
    "X_trainset"
   ]
  },
  {
   "cell_type": "code",
   "execution_count": 20,
   "metadata": {},
   "outputs": [
    {
     "data": {
      "image/png": "[encoded data removed]",
      "text/plain": [
       "<Figure size 640x480 with 2 Axes>"
      ]
     },
     "metadata": {},
     "output_type": "display_data"
    }
   ],
   "source": [
    "sns.heatmap(X_trainset.corr(), annot=True)\n",
    "plt.show()"
   ]
  },
  {
   "cell_type": "markdown",
   "metadata": {},
   "source": [
    "### Preparing the datasets for training\n"
   ]
  },
  {
   "cell_type": "code",
   "execution_count": 21,
   "metadata": {},
   "outputs": [
    {
     "data": {
      "text/plain": [
       "0      0\n",
       "1      0\n",
       "2      0\n",
       "3      1\n",
       "4      1\n",
       "      ..\n",
       "414    0\n",
       "415    1\n",
       "416    1\n",
       "417    0\n",
       "418    0\n",
       "Name: Placement Status, Length: 419, dtype: int64"
      ]
     },
     "execution_count": 21,
     "metadata": {},
     "output_type": "execute_result"
    }
   ],
   "source": [
    "y = X_trainset[\"Placement Status\"]\n",
    "X_trainset.drop([\"Placement Status\"], axis=1, inplace=True)\n",
    "y"
   ]
  },
  {
   "cell_type": "code",
   "execution_count": 22,
   "metadata": {},
   "outputs": [
    {
     "data": {
      "text/html": [
       "<div>\n",
       "<style scoped>\n",
       "    .dataframe tbody tr th:only-of-type {\n",
       "        vertical-align: middle;\n",
       "    }\n",
       "\n",
       "    .dataframe tbody tr th {\n",
       "        vertical-align: top;\n",
       "    }\n",
       "\n",
       "    .dataframe thead th {\n",
       "        text-align: right;\n",
       "    }\n",
       "</style>\n",
       "<table border=\"1\" class=\"dataframe\">\n",
       "  <thead>\n",
       "    <tr style=\"text-align: right;\">\n",
       "      <th></th>\n",
       "      <th>Attendee Status</th>\n",
       "      <th>CGPA</th>\n",
       "      <th>Speaking Skills</th>\n",
       "      <th>ML Knowledge</th>\n",
       "    </tr>\n",
       "  </thead>\n",
       "  <tbody>\n",
       "    <tr>\n",
       "      <th>0</th>\n",
       "      <td>1</td>\n",
       "      <td>9.6</td>\n",
       "      <td>3</td>\n",
       "      <td>2</td>\n",
       "    </tr>\n",
       "    <tr>\n",
       "      <th>1</th>\n",
       "      <td>1</td>\n",
       "      <td>9.9</td>\n",
       "      <td>3</td>\n",
       "      <td>2</td>\n",
       "    </tr>\n",
       "    <tr>\n",
       "      <th>2</th>\n",
       "      <td>1</td>\n",
       "      <td>7.6</td>\n",
       "      <td>2</td>\n",
       "      <td>5</td>\n",
       "    </tr>\n",
       "    <tr>\n",
       "      <th>3</th>\n",
       "      <td>1</td>\n",
       "      <td>8.9</td>\n",
       "      <td>3</td>\n",
       "      <td>4</td>\n",
       "    </tr>\n",
       "    <tr>\n",
       "      <th>4</th>\n",
       "      <td>1</td>\n",
       "      <td>7.7</td>\n",
       "      <td>5</td>\n",
       "      <td>4</td>\n",
       "    </tr>\n",
       "    <tr>\n",
       "      <th>...</th>\n",
       "      <td>...</td>\n",
       "      <td>...</td>\n",
       "      <td>...</td>\n",
       "      <td>...</td>\n",
       "    </tr>\n",
       "    <tr>\n",
       "      <th>414</th>\n",
       "      <td>1</td>\n",
       "      <td>9.1</td>\n",
       "      <td>3</td>\n",
       "      <td>3</td>\n",
       "    </tr>\n",
       "    <tr>\n",
       "      <th>415</th>\n",
       "      <td>1</td>\n",
       "      <td>6.7</td>\n",
       "      <td>4</td>\n",
       "      <td>4</td>\n",
       "    </tr>\n",
       "    <tr>\n",
       "      <th>416</th>\n",
       "      <td>1</td>\n",
       "      <td>7.9</td>\n",
       "      <td>4</td>\n",
       "      <td>4</td>\n",
       "    </tr>\n",
       "    <tr>\n",
       "      <th>417</th>\n",
       "      <td>1</td>\n",
       "      <td>7.3</td>\n",
       "      <td>2</td>\n",
       "      <td>2</td>\n",
       "    </tr>\n",
       "    <tr>\n",
       "      <th>418</th>\n",
       "      <td>1</td>\n",
       "      <td>7.3</td>\n",
       "      <td>2</td>\n",
       "      <td>2</td>\n",
       "    </tr>\n",
       "  </tbody>\n",
       "</table>\n",
       "<p>419 rows × 4 columns</p>\n",
       "</div>"
      ],
      "text/plain": [
       "     Attendee Status  CGPA  Speaking Skills  ML Knowledge\n",
       "0                  1   9.6                3             2\n",
       "1                  1   9.9                3             2\n",
       "2                  1   7.6                2             5\n",
       "3                  1   8.9                3             4\n",
       "4                  1   7.7                5             4\n",
       "..               ...   ...              ...           ...\n",
       "414                1   9.1                3             3\n",
       "415                1   6.7                4             4\n",
       "416                1   7.9                4             4\n",
       "417                1   7.3                2             2\n",
       "418                1   7.3                2             2\n",
       "\n",
       "[419 rows x 4 columns]"
      ]
     },
     "execution_count": 22,
     "metadata": {},
     "output_type": "execute_result"
    }
   ],
   "source": [
    "X_trainset"
   ]
  },
  {
   "cell_type": "code",
   "execution_count": 23,
   "metadata": {},
   "outputs": [],
   "source": [
    "# Creating the test and train datasets for ML Models\n",
    "X_train, X_test, y_train, y_test = train_test_split(\n",
    "    X_trainset, y, test_size=0.15, random_state=1\n",
    ")"
   ]
  },
  {
   "cell_type": "markdown",
   "metadata": {},
   "source": [
    "## Create, Train & Test ML Models\n",
    "\n",
    "---\n"
   ]
  },
  {
   "cell_type": "markdown",
   "metadata": {},
   "source": [
    "### Logistic Regression\n"
   ]
  },
  {
   "cell_type": "code",
   "execution_count": 24,
   "metadata": {},
   "outputs": [
    {
     "name": "stdout",
     "output_type": "stream",
     "text": [
      "              precision    recall  f1-score   support\n",
      "\n",
      "           0       0.65      1.00      0.79        41\n",
      "           1       0.00      0.00      0.00        22\n",
      "\n",
      "    accuracy                           0.65        63\n",
      "   macro avg       0.33      0.50      0.39        63\n",
      "weighted avg       0.42      0.65      0.51        63\n",
      "\n"
     ]
    },
    {
     "name": "stderr",
     "output_type": "stream",
     "text": [
      "/home/soumyajitkolay/anaconda3/lib/python3.11/site-packages/sklearn/metrics/_classification.py:1469: UndefinedMetricWarning: Precision and F-score are ill-defined and being set to 0.0 in labels with no predicted samples. Use `zero_division` parameter to control this behavior.\n",
      "  _warn_prf(average, modifier, msg_start, len(result))\n",
      "/home/soumyajitkolay/anaconda3/lib/python3.11/site-packages/sklearn/metrics/_classification.py:1469: UndefinedMetricWarning: Precision and F-score are ill-defined and being set to 0.0 in labels with no predicted samples. Use `zero_division` parameter to control this behavior.\n",
      "  _warn_prf(average, modifier, msg_start, len(result))\n",
      "/home/soumyajitkolay/anaconda3/lib/python3.11/site-packages/sklearn/metrics/_classification.py:1469: UndefinedMetricWarning: Precision and F-score are ill-defined and being set to 0.0 in labels with no predicted samples. Use `zero_division` parameter to control this behavior.\n",
      "  _warn_prf(average, modifier, msg_start, len(result))\n"
     ]
    }
   ],
   "source": [
    "lr_model = LogisticRegression()\n",
    "lr_model.fit(X_train, y_train)\n",
    "y_pred = lr_model.predict(X_test)\n",
    "print(classification_report(y_test, y_pred))"
   ]
  },
  {
   "cell_type": "code",
   "execution_count": 25,
   "metadata": {},
   "outputs": [
    {
     "data": {
      "text/plain": [
       "{0: 63}"
      ]
     },
     "execution_count": 25,
     "metadata": {},
     "output_type": "execute_result"
    }
   ],
   "source": [
    "uniqounter(y_pred)"
   ]
  },
  {
   "cell_type": "markdown",
   "metadata": {},
   "source": [
    "We observe that LR does not output \"Placed\" results at all.\n"
   ]
  },
  {
   "cell_type": "markdown",
   "metadata": {},
   "source": [
    "### Decision Tree Classifier\n"
   ]
  },
  {
   "cell_type": "code",
   "execution_count": 26,
   "metadata": {},
   "outputs": [
    {
     "name": "stdout",
     "output_type": "stream",
     "text": [
      "              precision    recall  f1-score   support\n",
      "\n",
      "           0       0.66      0.85      0.74        41\n",
      "           1       0.40      0.18      0.25        22\n",
      "\n",
      "    accuracy                           0.62        63\n",
      "   macro avg       0.53      0.52      0.50        63\n",
      "weighted avg       0.57      0.62      0.57        63\n",
      "\n"
     ]
    }
   ],
   "source": [
    "dtree = DecisionTreeClassifier(criterion=\"gini\", random_state=1)\n",
    "dtree.fit(X_train, y_train)\n",
    "y_pred = dtree.predict(X_test)\n",
    "print(classification_report(y_test, y_pred))"
   ]
  },
  {
   "cell_type": "code",
   "execution_count": 27,
   "metadata": {},
   "outputs": [
    {
     "data": {
      "text/plain": [
       "{0: 53, 1: 10}"
      ]
     },
     "execution_count": 27,
     "metadata": {},
     "output_type": "execute_result"
    }
   ],
   "source": [
    "uniqounter(y_pred)"
   ]
  },
  {
   "cell_type": "markdown",
   "metadata": {},
   "source": [
    "### Random Forest Classifier\n"
   ]
  },
  {
   "cell_type": "code",
   "execution_count": 28,
   "metadata": {},
   "outputs": [
    {
     "name": "stdout",
     "output_type": "stream",
     "text": [
      "              precision    recall  f1-score   support\n",
      "\n",
      "           0       0.67      0.85      0.75        41\n",
      "           1       0.45      0.23      0.30        22\n",
      "\n",
      "    accuracy                           0.63        63\n",
      "   macro avg       0.56      0.54      0.53        63\n",
      "weighted avg       0.60      0.63      0.60        63\n",
      "\n"
     ]
    }
   ],
   "source": [
    "random_forest = RandomForestClassifier(n_estimators=10000)\n",
    "random_forest.fit(X_train, y_train)\n",
    "y_pred = random_forest.predict(X_test)\n",
    "print(classification_report(y_test, y_pred))"
   ]
  },
  {
   "cell_type": "code",
   "execution_count": 29,
   "metadata": {},
   "outputs": [
    {
     "data": {
      "text/plain": [
       "{0: 52, 1: 11}"
      ]
     },
     "execution_count": 29,
     "metadata": {},
     "output_type": "execute_result"
    }
   ],
   "source": [
    "uniqounter(y_pred)"
   ]
  },
  {
   "cell_type": "markdown",
   "metadata": {},
   "source": [
    "### Linear SVM\n"
   ]
  },
  {
   "cell_type": "code",
   "execution_count": 30,
   "metadata": {},
   "outputs": [
    {
     "name": "stdout",
     "output_type": "stream",
     "text": [
      "              precision    recall  f1-score   support\n",
      "\n",
      "           0       0.67      0.85      0.75        41\n",
      "           1       0.45      0.23      0.30        22\n",
      "\n",
      "    accuracy                           0.63        63\n",
      "   macro avg       0.56      0.54      0.53        63\n",
      "weighted avg       0.60      0.63      0.60        63\n",
      "\n"
     ]
    }
   ],
   "source": [
    "svm_model = SVC(kernel=\"linear\", C=1.0)\n",
    "svm_model.fit(X_train, y_train)\n",
    "svm_model.predict(X_test)\n",
    "print(classification_report(y_test, y_pred))"
   ]
  },
  {
   "cell_type": "code",
   "execution_count": 31,
   "metadata": {},
   "outputs": [
    {
     "data": {
      "text/plain": [
       "{0: 52, 1: 11}"
      ]
     },
     "execution_count": 31,
     "metadata": {},
     "output_type": "execute_result"
    }
   ],
   "source": [
    "uniqounter(y_pred)"
   ]
  },
  {
   "cell_type": "markdown",
   "metadata": {},
   "source": [
    "### Naive Bayes Classifier\n"
   ]
  },
  {
   "cell_type": "code",
   "execution_count": 32,
   "metadata": {},
   "outputs": [
    {
     "name": "stdout",
     "output_type": "stream",
     "text": [
      "              precision    recall  f1-score   support\n",
      "\n",
      "           0       0.67      0.85      0.75        41\n",
      "           1       0.45      0.23      0.30        22\n",
      "\n",
      "    accuracy                           0.63        63\n",
      "   macro avg       0.56      0.54      0.53        63\n",
      "weighted avg       0.60      0.63      0.60        63\n",
      "\n"
     ]
    }
   ],
   "source": [
    "nbayes_model = GaussianNB()\n",
    "nbayes_model.fit(X_train, y_train)\n",
    "nbayes_model.predict(X_test)\n",
    "print(classification_report(y_test, y_pred))"
   ]
  },
  {
   "cell_type": "code",
   "execution_count": 33,
   "metadata": {},
   "outputs": [
    {
     "data": {
      "text/plain": [
       "{0: 52, 1: 11}"
      ]
     },
     "execution_count": 33,
     "metadata": {},
     "output_type": "execute_result"
    }
   ],
   "source": [
    "uniqounter(y_pred)"
   ]
  },
  {
   "cell_type": "markdown",
   "metadata": {},
   "source": [
    "### XGBoost Classifier\n"
   ]
  },
  {
   "cell_type": "code",
   "execution_count": 34,
   "metadata": {},
   "outputs": [
    {
     "name": "stdout",
     "output_type": "stream",
     "text": [
      "              precision    recall  f1-score   support\n",
      "\n",
      "           0       0.63      0.78      0.70        41\n",
      "           1       0.25      0.14      0.18        22\n",
      "\n",
      "    accuracy                           0.56        63\n",
      "   macro avg       0.44      0.46      0.44        63\n",
      "weighted avg       0.50      0.56      0.51        63\n",
      "\n"
     ]
    }
   ],
   "source": [
    "model_xgbc = XGBClassifier(eval_metric=\"mlogloss\", n_jobs=16, max_depth=3)\n",
    "model_xgbc.fit(X_train, y_train)\n",
    "y_pred = model_xgbc.predict(X_test)\n",
    "print(classification_report(y_test, y_pred))"
   ]
  },
  {
   "cell_type": "code",
   "execution_count": 35,
   "metadata": {},
   "outputs": [
    {
     "data": {
      "text/plain": [
       "{0: 51, 1: 12}"
      ]
     },
     "execution_count": 35,
     "metadata": {},
     "output_type": "execute_result"
    }
   ],
   "source": [
    "uniqounter(y_pred)"
   ]
  },
  {
   "cell_type": "code",
   "execution_count": 36,
   "metadata": {},
   "outputs": [
    {
     "name": "stdout",
     "output_type": "stream",
     "text": [
      "              precision    recall  f1-score   support\n",
      "\n",
      "           0       0.65      0.80      0.72        41\n",
      "           1       0.33      0.18      0.24        22\n",
      "\n",
      "    accuracy                           0.59        63\n",
      "   macro avg       0.49      0.49      0.48        63\n",
      "weighted avg       0.54      0.59      0.55        63\n",
      "\n"
     ]
    }
   ],
   "source": [
    "xgb_classifier = xgb.XGBClassifier(\n",
    "    n_estimators=10000,\n",
    "    objective=\"multi:softmax\",\n",
    "    tree_method=\"hist\",\n",
    "    eta=0.45,\n",
    "    max_depth=7,\n",
    "    num_class=2,\n",
    "    eval_metric=\"mlogloss\",\n",
    ")\n",
    "xgb_classifier.fit(X_train, y_train)\n",
    "\n",
    "# Convert the model to a native API model\n",
    "xgbc_model = xgb_classifier.get_booster()\n",
    "y_pred = xgbc_model.predict(xgb.DMatrix(X_test))\n",
    "print(classification_report(y_test, y_pred))"
   ]
  },
  {
   "cell_type": "code",
   "execution_count": 37,
   "metadata": {},
   "outputs": [
    {
     "data": {
      "text/plain": [
       "{0.0: 51, 1.0: 12}"
      ]
     },
     "execution_count": 37,
     "metadata": {},
     "output_type": "execute_result"
    }
   ],
   "source": [
    "uniqounter(y_pred)"
   ]
  },
  {
   "cell_type": "code",
   "execution_count": 38,
   "metadata": {},
   "outputs": [
    {
     "name": "stdout",
     "output_type": "stream",
     "text": [
      "              precision    recall  f1-score   support\n",
      "\n",
      "           0       0.64      0.78      0.70        41\n",
      "           1       0.31      0.18      0.23        22\n",
      "\n",
      "    accuracy                           0.57        63\n",
      "   macro avg       0.47      0.48      0.47        63\n",
      "weighted avg       0.52      0.57      0.54        63\n",
      "\n"
     ]
    }
   ],
   "source": [
    "class SaveBestModel(xgb.callback.TrainingCallback):\n",
    "    def __init__(self, cvboosters):\n",
    "        self._cvboosters = cvboosters\n",
    "\n",
    "    def after_training(self, model):\n",
    "        self._cvboosters[:] = [cvpack.bst for cvpack in model.cvfolds]\n",
    "        return model\n",
    "\n",
    "\n",
    "params = {\"objective\": \"multi:softmax\", \"num_class\": 2, \"eta\": 0.45, \"max_depth\": 7}\n",
    "cvboosters = []\n",
    "\n",
    "cv_results = xgb.cv(\n",
    "    dtrain=xgb.DMatrix(X_train, y_train, enable_categorical=True),\n",
    "    params=params,\n",
    "    nfold=16,\n",
    "    num_boost_round=1000,\n",
    "    as_pandas=True,\n",
    "    metrics=[\"mlogloss\", \"merror\"],\n",
    "    callbacks=[\n",
    "        SaveBestModel(cvboosters),\n",
    "    ],\n",
    ")\n",
    "y_pred = cvboosters[0].predict(xgb.DMatrix(X_test))\n",
    "print(classification_report(y_test, y_pred))"
   ]
  },
  {
   "cell_type": "code",
   "execution_count": 39,
   "metadata": {},
   "outputs": [
    {
     "data": {
      "text/plain": [
       "{0.0: 50, 1.0: 13}"
      ]
     },
     "execution_count": 39,
     "metadata": {},
     "output_type": "execute_result"
    }
   ],
   "source": [
    "uniqounter(y_pred)"
   ]
  },
  {
   "cell_type": "markdown",
   "metadata": {},
   "source": [
    "## Finalizing and exporting\n",
    "\n",
    "---\n"
   ]
  },
  {
   "cell_type": "markdown",
   "metadata": {},
   "source": [
    "We found that **Random Forest Classifier** and **Linear SVM** have the highest accuracy score among all the classification algorithms.\n",
    "\n",
    "Here, we select **RF Classifier** to predict the results.\n",
    "\n",
    "Hence, we shall be training the RF model with the full (cleaned and preprocessed) dataset and then use it to predict the **Placement Status** for the **test dataset**.\n"
   ]
  },
  {
   "cell_type": "markdown",
   "metadata": {},
   "source": [
    "### Re-Training the Model\n",
    "\n",
    "(With Full Dataset)\n"
   ]
  },
  {
   "cell_type": "code",
   "execution_count": 40,
   "metadata": {},
   "outputs": [
    {
     "data": {
      "text/html": [
       "<style>#sk-container-id-1 {color: black;}#sk-container-id-1 pre{padding: 0;}#sk-container-id-1 div.sk-toggleable {background-color: white;}#sk-container-id-1 label.sk-toggleable__label {cursor: pointer;display: block;width: 100%;margin-bottom: 0;padding: 0.3em;box-sizing: border-box;text-align: center;}#sk-container-id-1 label.sk-toggleable__label-arrow:before {content: \"▸\";float: left;margin-right: 0.25em;color: #696969;}#sk-container-id-1 label.sk-toggleable__label-arrow:hover:before {color: black;}#sk-container-id-1 div.sk-estimator:hover label.sk-toggleable__label-arrow:before {color: black;}#sk-container-id-1 div.sk-toggleable__content {max-height: 0;max-width: 0;overflow: hidden;text-align: left;background-color: #f0f8ff;}#sk-container-id-1 div.sk-toggleable__content pre {margin: 0.2em;color: black;border-radius: 0.25em;background-color: #f0f8ff;}#sk-container-id-1 input.sk-toggleable__control:checked~div.sk-toggleable__content {max-height: 200px;max-width: 100%;overflow: auto;}#sk-container-id-1 input.sk-toggleable__control:checked~label.sk-toggleable__label-arrow:before {content: \"▾\";}#sk-container-id-1 div.sk-estimator input.sk-toggleable__control:checked~label.sk-toggleable__label {background-color: #d4ebff;}#sk-container-id-1 div.sk-label input.sk-toggleable__control:checked~label.sk-toggleable__label {background-color: #d4ebff;}#sk-container-id-1 input.sk-hidden--visually {border: 0;clip: rect(1px 1px 1px 1px);clip: rect(1px, 1px, 1px, 1px);height: 1px;margin: -1px;overflow: hidden;padding: 0;position: absolute;width: 1px;}#sk-container-id-1 div.sk-estimator {font-family: monospace;background-color: #f0f8ff;border: 1px dotted black;border-radius: 0.25em;box-sizing: border-box;margin-bottom: 0.5em;}#sk-container-id-1 div.sk-estimator:hover {background-color: #d4ebff;}#sk-container-id-1 div.sk-parallel-item::after {content: \"\";width: 100%;border-bottom: 1px solid gray;flex-grow: 1;}#sk-container-id-1 div.sk-label:hover label.sk-toggleable__label {background-color: #d4ebff;}#sk-container-id-1 div.sk-serial::before {content: \"\";position: absolute;border-left: 1px solid gray;box-sizing: border-box;top: 0;bottom: 0;left: 50%;z-index: 0;}#sk-container-id-1 div.sk-serial {display: flex;flex-direction: column;align-items: center;background-color: white;padding-right: 0.2em;padding-left: 0.2em;position: relative;}#sk-container-id-1 div.sk-item {position: relative;z-index: 1;}#sk-container-id-1 div.sk-parallel {display: flex;align-items: stretch;justify-content: center;background-color: white;position: relative;}#sk-container-id-1 div.sk-item::before, #sk-container-id-1 div.sk-parallel-item::before {content: \"\";position: absolute;border-left: 1px solid gray;box-sizing: border-box;top: 0;bottom: 0;left: 50%;z-index: -1;}#sk-container-id-1 div.sk-parallel-item {display: flex;flex-direction: column;z-index: 1;position: relative;background-color: white;}#sk-container-id-1 div.sk-parallel-item:first-child::after {align-self: flex-end;width: 50%;}#sk-container-id-1 div.sk-parallel-item:last-child::after {align-self: flex-start;width: 50%;}#sk-container-id-1 div.sk-parallel-item:only-child::after {width: 0;}#sk-container-id-1 div.sk-dashed-wrapped {border: 1px dashed gray;margin: 0 0.4em 0.5em 0.4em;box-sizing: border-box;padding-bottom: 0.4em;background-color: white;}#sk-container-id-1 div.sk-label label {font-family: monospace;font-weight: bold;display: inline-block;line-height: 1.2em;}#sk-container-id-1 div.sk-label-container {text-align: center;}#sk-container-id-1 div.sk-container {/* jupyter's `normalize.less` sets `[hidden] { display: none; }` but bootstrap.min.css set `[hidden] { display: none !important; }` so we also need the `!important` here to be able to override the default hidden behavior on the sphinx rendered scikit-learn.org. See: https://github.com/scikit-learn/scikit-learn/issues/21755 */display: inline-block !important;position: relative;}#sk-container-id-1 div.sk-text-repr-fallback {display: none;}</style><div id=\"sk-container-id-1\" class=\"sk-top-container\"><div class=\"sk-text-repr-fallback\"><pre>RandomForestClassifier(n_estimators=10000)</pre><b>In a Jupyter environment, please rerun this cell to show the HTML representation or trust the notebook. <br />On GitHub, the HTML representation is unable to render, please try loading this page with nbviewer.org.</b></div><div class=\"sk-container\" hidden><div class=\"sk-item\"><div class=\"sk-estimator sk-toggleable\"><input class=\"sk-toggleable__control sk-hidden--visually\" id=\"sk-estimator-id-1\" type=\"checkbox\" checked><label for=\"sk-estimator-id-1\" class=\"sk-toggleable__label sk-toggleable__label-arrow\">RandomForestClassifier</label><div class=\"sk-toggleable__content\"><pre>RandomForestClassifier(n_estimators=10000)</pre></div></div></div></div></div>"
      ],
      "text/plain": [
       "RandomForestClassifier(n_estimators=10000)"
      ]
     },
     "execution_count": 40,
     "metadata": {},
     "output_type": "execute_result"
    }
   ],
   "source": [
    "random_forest.fit(X_trainset, y)"
   ]
  },
  {
   "cell_type": "markdown",
   "metadata": {},
   "source": [
    "### Preprocess the Test Data\n"
   ]
  },
  {
   "cell_type": "code",
   "execution_count": 41,
   "metadata": {},
   "outputs": [
    {
     "data": {
      "text/html": [
       "<div>\n",
       "<style scoped>\n",
       "    .dataframe tbody tr th:only-of-type {\n",
       "        vertical-align: middle;\n",
       "    }\n",
       "\n",
       "    .dataframe tbody tr th {\n",
       "        vertical-align: top;\n",
       "    }\n",
       "\n",
       "    .dataframe thead th {\n",
       "        text-align: right;\n",
       "    }\n",
       "</style>\n",
       "<table border=\"1\" class=\"dataframe\">\n",
       "  <thead>\n",
       "    <tr style=\"text-align: right;\">\n",
       "      <th></th>\n",
       "      <th>First Name</th>\n",
       "      <th>Email ID</th>\n",
       "      <th>Quantity</th>\n",
       "      <th>Price Tier</th>\n",
       "      <th>Ticket Type</th>\n",
       "      <th>Attendee #</th>\n",
       "      <th>Group</th>\n",
       "      <th>Order Type</th>\n",
       "      <th>Currency</th>\n",
       "      <th>Total Paid</th>\n",
       "      <th>...</th>\n",
       "      <th>Attendee Status</th>\n",
       "      <th>College Name</th>\n",
       "      <th>How did you come to know about this event?</th>\n",
       "      <th>Specify in \"Others\" (how did you come to know about this event)</th>\n",
       "      <th>Designation</th>\n",
       "      <th>Year of Graduation</th>\n",
       "      <th>CGPA</th>\n",
       "      <th>Speaking Skills</th>\n",
       "      <th>ML Knowledge</th>\n",
       "      <th>Placement Status</th>\n",
       "    </tr>\n",
       "  </thead>\n",
       "  <tbody>\n",
       "    <tr>\n",
       "      <th>0</th>\n",
       "      <td>Sahil</td>\n",
       "      <td>sahil@xyz.com</td>\n",
       "      <td>1</td>\n",
       "      <td>NaN</td>\n",
       "      <td>Hello ML and DL</td>\n",
       "      <td>2.293940e+09</td>\n",
       "      <td>NaN</td>\n",
       "      <td>Free Order</td>\n",
       "      <td>USD</td>\n",
       "      <td>0</td>\n",
       "      <td>...</td>\n",
       "      <td>Attending</td>\n",
       "      <td>symbiosis institute of technology, pune</td>\n",
       "      <td>Whatsapp</td>\n",
       "      <td>NaN</td>\n",
       "      <td>Students</td>\n",
       "      <td>NaN</td>\n",
       "      <td>7.8</td>\n",
       "      <td>3</td>\n",
       "      <td>3</td>\n",
       "      <td>NaN</td>\n",
       "    </tr>\n",
       "  </tbody>\n",
       "</table>\n",
       "<p>1 rows × 23 columns</p>\n",
       "</div>"
      ],
      "text/plain": [
       "  First Name       Email ID  Quantity  Price Tier      Ticket Type  \\\n",
       "0     Sahil   sahil@xyz.com         1         NaN  Hello ML and DL   \n",
       "\n",
       "     Attendee #  Group  Order Type Currency  Total Paid  ...  Attendee Status  \\\n",
       "0  2.293940e+09    NaN  Free Order      USD           0  ...        Attending   \n",
       "\n",
       "                              College Name  \\\n",
       "0  symbiosis institute of technology, pune   \n",
       "\n",
       "   How did you come to know about this event?  \\\n",
       "0                                    Whatsapp   \n",
       "\n",
       "  Specify in \"Others\" (how did you come to know about this event) Designation  \\\n",
       "0                                                NaN                 Students   \n",
       "\n",
       "  Year of Graduation CGPA Speaking Skills ML Knowledge  Placement Status  \n",
       "0                NaN  7.8               3            3               NaN  \n",
       "\n",
       "[1 rows x 23 columns]"
      ]
     },
     "execution_count": 41,
     "metadata": {},
     "output_type": "execute_result"
    }
   ],
   "source": [
    "data_test.head(1)"
   ]
  },
  {
   "cell_type": "code",
   "execution_count": 42,
   "metadata": {},
   "outputs": [
    {
     "data": {
      "text/plain": [
       "(3796, 23)"
      ]
     },
     "execution_count": 42,
     "metadata": {},
     "output_type": "execute_result"
    }
   ],
   "source": [
    "data_test.shape"
   ]
  },
  {
   "cell_type": "code",
   "execution_count": 43,
   "metadata": {},
   "outputs": [
    {
     "data": {
      "text/plain": [
       "Index(['First Name', 'Email ID', 'Quantity', 'Price Tier', 'Ticket Type',\n",
       "       'Attendee #', 'Group', 'Order Type', 'Currency', 'Total Paid',\n",
       "       'Fees Paid', 'Eventbrite Fees', 'Eventbrite Payment Processing',\n",
       "       'Attendee Status', 'College Name',\n",
       "       'How did you come to know about this event?',\n",
       "       'Specify in \"Others\" (how did you come to know about this event)',\n",
       "       'Designation', 'Year of Graduation', 'CGPA', 'Speaking Skills',\n",
       "       'ML Knowledge', 'Placement Status'],\n",
       "      dtype='object')"
      ]
     },
     "execution_count": 43,
     "metadata": {},
     "output_type": "execute_result"
    }
   ],
   "source": [
    "data_test.columns"
   ]
  },
  {
   "cell_type": "code",
   "execution_count": 44,
   "metadata": {},
   "outputs": [
    {
     "data": {
      "text/html": [
       "<div>\n",
       "<style scoped>\n",
       "    .dataframe tbody tr th:only-of-type {\n",
       "        vertical-align: middle;\n",
       "    }\n",
       "\n",
       "    .dataframe tbody tr th {\n",
       "        vertical-align: top;\n",
       "    }\n",
       "\n",
       "    .dataframe thead th {\n",
       "        text-align: right;\n",
       "    }\n",
       "</style>\n",
       "<table border=\"1\" class=\"dataframe\">\n",
       "  <thead>\n",
       "    <tr style=\"text-align: right;\">\n",
       "      <th></th>\n",
       "      <th>Attendee Status</th>\n",
       "      <th>CGPA</th>\n",
       "      <th>Speaking Skills</th>\n",
       "      <th>ML Knowledge</th>\n",
       "    </tr>\n",
       "  </thead>\n",
       "  <tbody>\n",
       "    <tr>\n",
       "      <th>0</th>\n",
       "      <td>1</td>\n",
       "      <td>7.8</td>\n",
       "      <td>3</td>\n",
       "      <td>3</td>\n",
       "    </tr>\n",
       "    <tr>\n",
       "      <th>1</th>\n",
       "      <td>1</td>\n",
       "      <td>9.1</td>\n",
       "      <td>3</td>\n",
       "      <td>3</td>\n",
       "    </tr>\n",
       "    <tr>\n",
       "      <th>2</th>\n",
       "      <td>1</td>\n",
       "      <td>6.9</td>\n",
       "      <td>2</td>\n",
       "      <td>2</td>\n",
       "    </tr>\n",
       "    <tr>\n",
       "      <th>3</th>\n",
       "      <td>1</td>\n",
       "      <td>8.4</td>\n",
       "      <td>4</td>\n",
       "      <td>4</td>\n",
       "    </tr>\n",
       "    <tr>\n",
       "      <th>4</th>\n",
       "      <td>1</td>\n",
       "      <td>6.7</td>\n",
       "      <td>5</td>\n",
       "      <td>5</td>\n",
       "    </tr>\n",
       "    <tr>\n",
       "      <th>...</th>\n",
       "      <td>...</td>\n",
       "      <td>...</td>\n",
       "      <td>...</td>\n",
       "      <td>...</td>\n",
       "    </tr>\n",
       "    <tr>\n",
       "      <th>3791</th>\n",
       "      <td>1</td>\n",
       "      <td>9.0</td>\n",
       "      <td>3</td>\n",
       "      <td>2</td>\n",
       "    </tr>\n",
       "    <tr>\n",
       "      <th>3792</th>\n",
       "      <td>1</td>\n",
       "      <td>7.2</td>\n",
       "      <td>4</td>\n",
       "      <td>3</td>\n",
       "    </tr>\n",
       "    <tr>\n",
       "      <th>3793</th>\n",
       "      <td>1</td>\n",
       "      <td>8.5</td>\n",
       "      <td>2</td>\n",
       "      <td>3</td>\n",
       "    </tr>\n",
       "    <tr>\n",
       "      <th>3794</th>\n",
       "      <td>1</td>\n",
       "      <td>6.5</td>\n",
       "      <td>5</td>\n",
       "      <td>5</td>\n",
       "    </tr>\n",
       "    <tr>\n",
       "      <th>3795</th>\n",
       "      <td>1</td>\n",
       "      <td>6.6</td>\n",
       "      <td>4</td>\n",
       "      <td>5</td>\n",
       "    </tr>\n",
       "  </tbody>\n",
       "</table>\n",
       "<p>3796 rows × 4 columns</p>\n",
       "</div>"
      ],
      "text/plain": [
       "      Attendee Status  CGPA  Speaking Skills  ML Knowledge\n",
       "0                   1   7.8                3             3\n",
       "1                   1   9.1                3             3\n",
       "2                   1   6.9                2             2\n",
       "3                   1   8.4                4             4\n",
       "4                   1   6.7                5             5\n",
       "...               ...   ...              ...           ...\n",
       "3791                1   9.0                3             2\n",
       "3792                1   7.2                4             3\n",
       "3793                1   8.5                2             3\n",
       "3794                1   6.5                5             5\n",
       "3795                1   6.6                4             5\n",
       "\n",
       "[3796 rows x 4 columns]"
      ]
     },
     "execution_count": 44,
     "metadata": {},
     "output_type": "execute_result"
    }
   ],
   "source": [
    "X_test = data_test.drop(\n",
    "    [\n",
    "        \"First Name\",  # ID/unrequired for ML Model\n",
    "        \"Email ID\",  # ID/unrequired for ML Model\n",
    "        \"Quantity\",  # Same for all/irrelevant for ML Model\n",
    "        \"Price Tier\",  # Same for all/irrelevant for ML Model\n",
    "        \"Ticket Type\",  # Same for all/irrelevant for ML Model\n",
    "        \"Attendee #\",  # ID/unrequired for ML Model\n",
    "        \"Group\",  # Same for all/irrelevant for ML Model\n",
    "        \"Order Type\",  # Same for all/irrelevant for ML Model\n",
    "        \"Currency\",  # Same for all/irrelevant for ML Model\n",
    "        \"Total Paid\",  # Same for all/irrelevant for ML Model\n",
    "        \"Fees Paid\",  # Same for all/irrelevant for ML Model\n",
    "        \"Eventbrite Fees\",  # Same for all/irrelevant for ML Model\n",
    "        \"Eventbrite Payment Processing\",  # Same for all/irrelevant for ML Model\n",
    "        \"College Name\",  # Contains noise\n",
    "        \"Year of Graduation\",  # Contains noise/irrelevant values\n",
    "        \"How did you come to know about this event?\",  # Irrelevant for Given Problem Statement\n",
    "        'Specify in \"Others\" (how did you come to know about this event)',  # Same for all/irrelevant for ML Model\n",
    "        \"Designation\",  # Same for all/irrelevant for ML Model\n",
    "        \"Placement Status\",  # To be predicted\n",
    "    ],\n",
    "    axis=1,\n",
    ")\n",
    "X_test[\"Attendee Status\"].replace({\"Attending\": 1, \"NAN\": 0}, inplace=True)\n",
    "X_test"
   ]
  },
  {
   "cell_type": "code",
   "execution_count": 45,
   "metadata": {},
   "outputs": [
    {
     "data": {
      "text/plain": [
       "array([0, 0, 0, ..., 0, 0, 0])"
      ]
     },
     "execution_count": 45,
     "metadata": {},
     "output_type": "execute_result"
    }
   ],
   "source": [
    "y_final = random_forest.predict(X_test)\n",
    "y_final"
   ]
  },
  {
   "cell_type": "code",
   "execution_count": 46,
   "metadata": {},
   "outputs": [
    {
     "data": {
      "text/plain": [
       "{0: 3157, 1: 639}"
      ]
     },
     "execution_count": 46,
     "metadata": {},
     "output_type": "execute_result"
    }
   ],
   "source": [
    "uniqounter(y_final)"
   ]
  },
  {
   "cell_type": "code",
   "execution_count": 47,
   "metadata": {},
   "outputs": [],
   "source": [
    "data_test[\"Placement Status\"] = pd.Series(y_final).replace(\n",
    "    {0: \"Not placed\", 1: \"Placed\"}\n",
    ")"
   ]
  },
  {
   "cell_type": "code",
   "execution_count": 48,
   "metadata": {},
   "outputs": [
    {
     "data": {
      "text/html": [
       "<div>\n",
       "<style scoped>\n",
       "    .dataframe tbody tr th:only-of-type {\n",
       "        vertical-align: middle;\n",
       "    }\n",
       "\n",
       "    .dataframe tbody tr th {\n",
       "        vertical-align: top;\n",
       "    }\n",
       "\n",
       "    .dataframe thead th {\n",
       "        text-align: right;\n",
       "    }\n",
       "</style>\n",
       "<table border=\"1\" class=\"dataframe\">\n",
       "  <thead>\n",
       "    <tr style=\"text-align: right;\">\n",
       "      <th></th>\n",
       "      <th>First Name</th>\n",
       "      <th>Email ID</th>\n",
       "      <th>Quantity</th>\n",
       "      <th>Price Tier</th>\n",
       "      <th>Ticket Type</th>\n",
       "      <th>Attendee #</th>\n",
       "      <th>Group</th>\n",
       "      <th>Order Type</th>\n",
       "      <th>Currency</th>\n",
       "      <th>Total Paid</th>\n",
       "      <th>...</th>\n",
       "      <th>Attendee Status</th>\n",
       "      <th>College Name</th>\n",
       "      <th>How did you come to know about this event?</th>\n",
       "      <th>Specify in \"Others\" (how did you come to know about this event)</th>\n",
       "      <th>Designation</th>\n",
       "      <th>Year of Graduation</th>\n",
       "      <th>CGPA</th>\n",
       "      <th>Speaking Skills</th>\n",
       "      <th>ML Knowledge</th>\n",
       "      <th>Placement Status</th>\n",
       "    </tr>\n",
       "  </thead>\n",
       "  <tbody>\n",
       "    <tr>\n",
       "      <th>0</th>\n",
       "      <td>Sahil</td>\n",
       "      <td>sahil@xyz.com</td>\n",
       "      <td>1</td>\n",
       "      <td>NaN</td>\n",
       "      <td>Hello ML and DL</td>\n",
       "      <td>2.293940e+09</td>\n",
       "      <td>NaN</td>\n",
       "      <td>Free Order</td>\n",
       "      <td>USD</td>\n",
       "      <td>0</td>\n",
       "      <td>...</td>\n",
       "      <td>Attending</td>\n",
       "      <td>symbiosis institute of technology, pune</td>\n",
       "      <td>Whatsapp</td>\n",
       "      <td>NaN</td>\n",
       "      <td>Students</td>\n",
       "      <td>NaN</td>\n",
       "      <td>7.8</td>\n",
       "      <td>3</td>\n",
       "      <td>3</td>\n",
       "      <td>Not placed</td>\n",
       "    </tr>\n",
       "    <tr>\n",
       "      <th>1</th>\n",
       "      <td>Amrita</td>\n",
       "      <td>amrita@xyz.com</td>\n",
       "      <td>1</td>\n",
       "      <td>NaN</td>\n",
       "      <td>Hello ML and DL</td>\n",
       "      <td>2.293941e+09</td>\n",
       "      <td>NaN</td>\n",
       "      <td>Free Order</td>\n",
       "      <td>USD</td>\n",
       "      <td>0</td>\n",
       "      <td>...</td>\n",
       "      <td>Attending</td>\n",
       "      <td>mit academy of engineering ,alandi</td>\n",
       "      <td>Whatsapp</td>\n",
       "      <td>NaN</td>\n",
       "      <td>Students</td>\n",
       "      <td>NaN</td>\n",
       "      <td>9.1</td>\n",
       "      <td>3</td>\n",
       "      <td>3</td>\n",
       "      <td>Not placed</td>\n",
       "    </tr>\n",
       "    <tr>\n",
       "      <th>2</th>\n",
       "      <td>Mamta</td>\n",
       "      <td>mamta@xyz.com</td>\n",
       "      <td>1</td>\n",
       "      <td>NaN</td>\n",
       "      <td>Hello ML and DL</td>\n",
       "      <td>2.293941e+09</td>\n",
       "      <td>NaN</td>\n",
       "      <td>Free Order</td>\n",
       "      <td>USD</td>\n",
       "      <td>0</td>\n",
       "      <td>...</td>\n",
       "      <td>Attending</td>\n",
       "      <td>a. c. patil college of engineering</td>\n",
       "      <td>Whatsapp</td>\n",
       "      <td>NaN</td>\n",
       "      <td>Students</td>\n",
       "      <td>NaN</td>\n",
       "      <td>6.9</td>\n",
       "      <td>2</td>\n",
       "      <td>2</td>\n",
       "      <td>Not placed</td>\n",
       "    </tr>\n",
       "    <tr>\n",
       "      <th>3</th>\n",
       "      <td>Bhagyashri</td>\n",
       "      <td>bhagyashri@xyz.com</td>\n",
       "      <td>1</td>\n",
       "      <td>NaN</td>\n",
       "      <td>Hello ML and DL</td>\n",
       "      <td>2.293946e+09</td>\n",
       "      <td>NaN</td>\n",
       "      <td>Free Order</td>\n",
       "      <td>USD</td>\n",
       "      <td>0</td>\n",
       "      <td>...</td>\n",
       "      <td>Attending</td>\n",
       "      <td>wilson college</td>\n",
       "      <td>Others</td>\n",
       "      <td>NaN</td>\n",
       "      <td>Students</td>\n",
       "      <td>NaN</td>\n",
       "      <td>8.4</td>\n",
       "      <td>4</td>\n",
       "      <td>4</td>\n",
       "      <td>Not placed</td>\n",
       "    </tr>\n",
       "    <tr>\n",
       "      <th>4</th>\n",
       "      <td>Divyanshu</td>\n",
       "      <td>divyanshu@xyz.com</td>\n",
       "      <td>1</td>\n",
       "      <td>NaN</td>\n",
       "      <td>Hello ML and DL</td>\n",
       "      <td>2.293956e+09</td>\n",
       "      <td>NaN</td>\n",
       "      <td>Free Order</td>\n",
       "      <td>USD</td>\n",
       "      <td>0</td>\n",
       "      <td>...</td>\n",
       "      <td>Attending</td>\n",
       "      <td>ld college of engineering, ahmedabad, gujarat</td>\n",
       "      <td>Whatsapp</td>\n",
       "      <td>NaN</td>\n",
       "      <td>Students</td>\n",
       "      <td>NaN</td>\n",
       "      <td>6.7</td>\n",
       "      <td>5</td>\n",
       "      <td>5</td>\n",
       "      <td>Not placed</td>\n",
       "    </tr>\n",
       "    <tr>\n",
       "      <th>...</th>\n",
       "      <td>...</td>\n",
       "      <td>...</td>\n",
       "      <td>...</td>\n",
       "      <td>...</td>\n",
       "      <td>...</td>\n",
       "      <td>...</td>\n",
       "      <td>...</td>\n",
       "      <td>...</td>\n",
       "      <td>...</td>\n",
       "      <td>...</td>\n",
       "      <td>...</td>\n",
       "      <td>...</td>\n",
       "      <td>...</td>\n",
       "      <td>...</td>\n",
       "      <td>...</td>\n",
       "      <td>...</td>\n",
       "      <td>...</td>\n",
       "      <td>...</td>\n",
       "      <td>...</td>\n",
       "      <td>...</td>\n",
       "      <td>...</td>\n",
       "    </tr>\n",
       "    <tr>\n",
       "      <th>3791</th>\n",
       "      <td>Saif ali</td>\n",
       "      <td>saifali@xyz.com</td>\n",
       "      <td>1</td>\n",
       "      <td>NaN</td>\n",
       "      <td>Data Visualization using Power BI</td>\n",
       "      <td>1.949319e+09</td>\n",
       "      <td>NaN</td>\n",
       "      <td>Free Order</td>\n",
       "      <td>USD</td>\n",
       "      <td>0</td>\n",
       "      <td>...</td>\n",
       "      <td>Attending</td>\n",
       "      <td>mit academy of engineering ,alandi</td>\n",
       "      <td>NaN</td>\n",
       "      <td>NaN</td>\n",
       "      <td>Students</td>\n",
       "      <td>2021</td>\n",
       "      <td>9.0</td>\n",
       "      <td>3</td>\n",
       "      <td>2</td>\n",
       "      <td>Not placed</td>\n",
       "    </tr>\n",
       "    <tr>\n",
       "      <th>3792</th>\n",
       "      <td>Lankesh</td>\n",
       "      <td>lankesh@xyz.com</td>\n",
       "      <td>1</td>\n",
       "      <td>NaN</td>\n",
       "      <td>Data Visualization using Power BI</td>\n",
       "      <td>1.949328e+09</td>\n",
       "      <td>NaN</td>\n",
       "      <td>Free Order</td>\n",
       "      <td>USD</td>\n",
       "      <td>0</td>\n",
       "      <td>...</td>\n",
       "      <td>Attending</td>\n",
       "      <td>a. c. patil college of engineering</td>\n",
       "      <td>NaN</td>\n",
       "      <td>NaN</td>\n",
       "      <td>Students</td>\n",
       "      <td>2021</td>\n",
       "      <td>7.2</td>\n",
       "      <td>4</td>\n",
       "      <td>3</td>\n",
       "      <td>Not placed</td>\n",
       "    </tr>\n",
       "    <tr>\n",
       "      <th>3793</th>\n",
       "      <td>Sanjay</td>\n",
       "      <td>sanjay@xyz.com</td>\n",
       "      <td>1</td>\n",
       "      <td>NaN</td>\n",
       "      <td>Data Visualization using Power BI</td>\n",
       "      <td>1.949328e+09</td>\n",
       "      <td>NaN</td>\n",
       "      <td>Free Order</td>\n",
       "      <td>USD</td>\n",
       "      <td>0</td>\n",
       "      <td>...</td>\n",
       "      <td>Attending</td>\n",
       "      <td>wilson college</td>\n",
       "      <td>NaN</td>\n",
       "      <td>NaN</td>\n",
       "      <td>Students</td>\n",
       "      <td>2021</td>\n",
       "      <td>8.5</td>\n",
       "      <td>2</td>\n",
       "      <td>3</td>\n",
       "      <td>Not placed</td>\n",
       "    </tr>\n",
       "    <tr>\n",
       "      <th>3794</th>\n",
       "      <td>Sushmita</td>\n",
       "      <td>sushmita@xyz.com</td>\n",
       "      <td>1</td>\n",
       "      <td>NaN</td>\n",
       "      <td>Data Visualization using Power BI</td>\n",
       "      <td>1.949330e+09</td>\n",
       "      <td>NaN</td>\n",
       "      <td>Free Order</td>\n",
       "      <td>USD</td>\n",
       "      <td>0</td>\n",
       "      <td>...</td>\n",
       "      <td>Attending</td>\n",
       "      <td>ld college of engineering, ahmedabad, gujarat</td>\n",
       "      <td>NaN</td>\n",
       "      <td>NaN</td>\n",
       "      <td>Students</td>\n",
       "      <td>2021</td>\n",
       "      <td>6.5</td>\n",
       "      <td>5</td>\n",
       "      <td>5</td>\n",
       "      <td>Not placed</td>\n",
       "    </tr>\n",
       "    <tr>\n",
       "      <th>3795</th>\n",
       "      <td>Vipul</td>\n",
       "      <td>vipul@xyz.com</td>\n",
       "      <td>1</td>\n",
       "      <td>NaN</td>\n",
       "      <td>Data Visualization using Power BI</td>\n",
       "      <td>1.949332e+09</td>\n",
       "      <td>NaN</td>\n",
       "      <td>Free Order</td>\n",
       "      <td>USD</td>\n",
       "      <td>0</td>\n",
       "      <td>...</td>\n",
       "      <td>Attending</td>\n",
       "      <td>dkte society's textile and engineering institu...</td>\n",
       "      <td>NaN</td>\n",
       "      <td>NaN</td>\n",
       "      <td>Students</td>\n",
       "      <td>2021</td>\n",
       "      <td>6.6</td>\n",
       "      <td>4</td>\n",
       "      <td>5</td>\n",
       "      <td>Not placed</td>\n",
       "    </tr>\n",
       "  </tbody>\n",
       "</table>\n",
       "<p>3796 rows × 23 columns</p>\n",
       "</div>"
      ],
      "text/plain": [
       "      First Name            Email ID  Quantity  Price Tier  \\\n",
       "0         Sahil        sahil@xyz.com         1         NaN   \n",
       "1        Amrita       amrita@xyz.com         1         NaN   \n",
       "2          Mamta       mamta@xyz.com         1         NaN   \n",
       "3     Bhagyashri  bhagyashri@xyz.com         1         NaN   \n",
       "4      Divyanshu   divyanshu@xyz.com         1         NaN   \n",
       "...          ...                 ...       ...         ...   \n",
       "3791    Saif ali     saifali@xyz.com         1         NaN   \n",
       "3792     Lankesh     lankesh@xyz.com         1         NaN   \n",
       "3793      Sanjay      sanjay@xyz.com         1         NaN   \n",
       "3794    Sushmita    sushmita@xyz.com         1         NaN   \n",
       "3795       Vipul       vipul@xyz.com         1         NaN   \n",
       "\n",
       "                            Ticket Type    Attendee #  Group  Order Type  \\\n",
       "0                       Hello ML and DL  2.293940e+09    NaN  Free Order   \n",
       "1                       Hello ML and DL  2.293941e+09    NaN  Free Order   \n",
       "2                       Hello ML and DL  2.293941e+09    NaN  Free Order   \n",
       "3                       Hello ML and DL  2.293946e+09    NaN  Free Order   \n",
       "4                       Hello ML and DL  2.293956e+09    NaN  Free Order   \n",
       "...                                 ...           ...    ...         ...   \n",
       "3791  Data Visualization using Power BI  1.949319e+09    NaN  Free Order   \n",
       "3792  Data Visualization using Power BI  1.949328e+09    NaN  Free Order   \n",
       "3793  Data Visualization using Power BI  1.949328e+09    NaN  Free Order   \n",
       "3794  Data Visualization using Power BI  1.949330e+09    NaN  Free Order   \n",
       "3795  Data Visualization using Power BI  1.949332e+09    NaN  Free Order   \n",
       "\n",
       "     Currency  Total Paid  ...  Attendee Status  \\\n",
       "0         USD           0  ...        Attending   \n",
       "1         USD           0  ...        Attending   \n",
       "2         USD           0  ...        Attending   \n",
       "3         USD           0  ...        Attending   \n",
       "4         USD           0  ...        Attending   \n",
       "...       ...         ...  ...              ...   \n",
       "3791      USD           0  ...        Attending   \n",
       "3792      USD           0  ...        Attending   \n",
       "3793      USD           0  ...        Attending   \n",
       "3794      USD           0  ...        Attending   \n",
       "3795      USD           0  ...        Attending   \n",
       "\n",
       "                                           College Name  \\\n",
       "0               symbiosis institute of technology, pune   \n",
       "1                    mit academy of engineering ,alandi   \n",
       "2                    a. c. patil college of engineering   \n",
       "3                                       wilson college    \n",
       "4        ld college of engineering, ahmedabad, gujarat    \n",
       "...                                                 ...   \n",
       "3791                 mit academy of engineering ,alandi   \n",
       "3792                 a. c. patil college of engineering   \n",
       "3793                                    wilson college    \n",
       "3794     ld college of engineering, ahmedabad, gujarat    \n",
       "3795  dkte society's textile and engineering institu...   \n",
       "\n",
       "      How did you come to know about this event?  \\\n",
       "0                                       Whatsapp   \n",
       "1                                       Whatsapp   \n",
       "2                                       Whatsapp   \n",
       "3                                         Others   \n",
       "4                                       Whatsapp   \n",
       "...                                          ...   \n",
       "3791                                         NaN   \n",
       "3792                                         NaN   \n",
       "3793                                         NaN   \n",
       "3794                                         NaN   \n",
       "3795                                         NaN   \n",
       "\n",
       "     Specify in \"Others\" (how did you come to know about this event)  \\\n",
       "0                                                   NaN                \n",
       "1                                                   NaN                \n",
       "2                                                   NaN                \n",
       "3                                                   NaN                \n",
       "4                                                   NaN                \n",
       "...                                                 ...                \n",
       "3791                                                NaN                \n",
       "3792                                                NaN                \n",
       "3793                                                NaN                \n",
       "3794                                                NaN                \n",
       "3795                                                NaN                \n",
       "\n",
       "     Designation Year of Graduation CGPA Speaking Skills ML Knowledge  \\\n",
       "0       Students                NaN  7.8               3            3   \n",
       "1       Students                NaN  9.1               3            3   \n",
       "2       Students                NaN  6.9               2            2   \n",
       "3       Students                NaN  8.4               4            4   \n",
       "4       Students                NaN  6.7               5            5   \n",
       "...          ...                ...  ...             ...          ...   \n",
       "3791    Students               2021  9.0               3            2   \n",
       "3792    Students               2021  7.2               4            3   \n",
       "3793    Students               2021  8.5               2            3   \n",
       "3794    Students               2021  6.5               5            5   \n",
       "3795    Students               2021  6.6               4            5   \n",
       "\n",
       "      Placement Status  \n",
       "0           Not placed  \n",
       "1           Not placed  \n",
       "2           Not placed  \n",
       "3           Not placed  \n",
       "4           Not placed  \n",
       "...                ...  \n",
       "3791        Not placed  \n",
       "3792        Not placed  \n",
       "3793        Not placed  \n",
       "3794        Not placed  \n",
       "3795        Not placed  \n",
       "\n",
       "[3796 rows x 23 columns]"
      ]
     },
     "execution_count": 48,
     "metadata": {},
     "output_type": "execute_result"
    }
   ],
   "source": [
    "data_test"
   ]
  },
  {
   "cell_type": "code",
   "execution_count": 49,
   "metadata": {},
   "outputs": [],
   "source": [
    "data_test.to_excel(\"03 Predicted Data.xlsx\")"
   ]
  },
  {
   "cell_type": "markdown",
   "metadata": {},
   "source": [
    "---\n",
    "\n",
    "Author: Soumyajit Kolay\n",
    "\n",
    "Organization: Cloud Counselage\n"
   ]
  }
 ],
 "metadata": {
  "kernelspec": {
   "display_name": ".venv",
   "language": "python",
   "name": "python3"
  },
  "language_info": {
   "codemirror_mode": {
    "name": "ipython",
    "version": 3
   },
   "file_extension": ".py",
   "mimetype": "text/x-python",
   "name": "python",
   "nbconvert_exporter": "python",
   "pygments_lexer": "ipython3",
   "version": "3.11.5"
  },
  "orig_nbformat": 4
 },
 "nbformat": 4,
 "nbformat_minor": 2
}
